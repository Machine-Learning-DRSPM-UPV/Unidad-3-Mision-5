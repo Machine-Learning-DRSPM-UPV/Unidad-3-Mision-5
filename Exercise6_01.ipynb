{
 "cells": [
  {
   "cell_type": "markdown",
   "metadata": {},
   "source": [
    "# Exercise 6.01: Using Basic Operations and TensorFlow Constants\n",
    "\n",
    "In this exercise, we will be using arithmetic operations in TensorFlow to emulate an artificial neuron by performing a matrix multiplication and addition, and applying a non-linear function, sigmoid.\n",
    "\n",
    "The following steps will help you complete the exercise:"
   ]
  },
  {
   "cell_type": "markdown",
   "metadata": {},
   "source": [
    "1.- Import the `tensorflow` package as `tf`"
   ]
  },
  {
   "cell_type": "code",
   "execution_count": null,
   "metadata": {},
   "outputs": [],
   "source": []
  },
  {
   "cell_type": "markdown",
   "metadata": {},
   "source": [
    "2.- Create a tensor called `W` of shape $[1,6]$ (that is, with 1 row and 6 columns), using `tf.constant()`, that contains the matrix $[1.0, 2.0, 3.0, 4.0, 5.0, 6.0]$. Print its value:\n",
    "\n",
    "Output:\n",
    "\n",
    "```\n",
    "<tf.Tensor: shape=(1, 6), dtype=float32, numpy=array([[1., 2., 3., 4., 5., 6.]], dtype=float32)>\n",
    "```"
   ]
  },
  {
   "cell_type": "code",
   "execution_count": null,
   "metadata": {},
   "outputs": [],
   "source": []
  },
  {
   "cell_type": "markdown",
   "metadata": {},
   "source": [
    "3.- Create a tensor called X of shape $[6,1]$ (that is, with 6 rows and 1 column), using `tf.constant()`, that contains $[7.0, 8.0, 9.0, 10.0, 11.0, 12.0]$. Print its value\n",
    "\n",
    "Output:\n",
    "\n",
    "```\n",
    "<tf.Tensor: shape=(6, 1), dtype=float32, numpy=\n",
    "array([[ 7.],\n",
    "       [ 8.],\n",
    "       [ 9.],\n",
    "       [10.],\n",
    "       [11.],\n",
    "       [12.]], dtype=float32)>\n",
    "```"
   ]
  },
  {
   "cell_type": "code",
   "execution_count": null,
   "metadata": {},
   "outputs": [],
   "source": []
  },
  {
   "cell_type": "markdown",
   "metadata": {},
   "source": [
    "4.- Create a tensor called `b`, using `tf.constant()`, that contains $-88$. Print its value:\n",
    "\n",
    "```\n",
    "<tf.Tensor: shape=(), dtype=float32, numpy=-88.0>\n",
    "```"
   ]
  },
  {
   "cell_type": "code",
   "execution_count": null,
   "metadata": {},
   "outputs": [],
   "source": []
  },
  {
   "cell_type": "markdown",
   "metadata": {},
   "source": [
    "5.- Perform a matrix multiplication between `W` and `X` using `tf.matmul`, save its results in the `mult` variable, and print its value\n",
    "\n",
    "Output\n",
    "\n",
    "```\n",
    "<tf.Tensor: shape=(1, 1), dtype=float32, numpy=array([[217.]], dtype=float32)>\n",
    "```"
   ]
  },
  {
   "cell_type": "code",
   "execution_count": null,
   "metadata": {},
   "outputs": [],
   "source": []
  },
  {
   "cell_type": "markdown",
   "metadata": {},
   "source": [
    "6.- Perform a matrix addition between `mult` and `b`, save its results in a variable called `Z`, and print its value:\n",
    "\n",
    "Output:\n",
    "\n",
    "```\n",
    "<tf.Tensor: shape=(1, 1), dtype=float32, numpy=array([[305.]], dtype=float32)>\n",
    "```"
   ]
  },
  {
   "cell_type": "code",
   "execution_count": null,
   "metadata": {},
   "outputs": [],
   "source": []
  },
  {
   "cell_type": "markdown",
   "metadata": {},
   "source": [
    "7.- Apply the `sigmoid` function to `Z` using `tf.math.sigmoid`, save its results in a variable called a, and print its value. The `sigmoid` function transforms any numerical value within the range $0$ to $1$ (we will learn more about this in the following sections):\n",
    "\n",
    "Output:\n",
    "\n",
    "```\n",
    "<tf.Tensor: shape=(1, 1), dtype=float32, numpy=array([[1.]], dtype=float32)>\n",
    "```"
   ]
  },
  {
   "cell_type": "code",
   "execution_count": null,
   "metadata": {},
   "outputs": [],
   "source": []
  },
  {
   "cell_type": "markdown",
   "metadata": {},
   "source": [
    "The `sigmoid` function has transformed the original value of `Z`, which was 129, to 1."
   ]
  },
  {
   "cell_type": "code",
   "execution_count": null,
   "metadata": {},
   "outputs": [],
   "source": []
  }
 ],
 "metadata": {
  "kernelspec": {
   "display_name": "Python 3",
   "language": "python",
   "name": "python3"
  },
  "language_info": {
   "codemirror_mode": {
    "name": "ipython",
    "version": 3
   },
   "file_extension": ".py",
   "mimetype": "text/x-python",
   "name": "python",
   "nbconvert_exporter": "python",
   "pygments_lexer": "ipython3",
   "version": "3.8.5"
  }
 },
 "nbformat": 4,
 "nbformat_minor": 4
}
